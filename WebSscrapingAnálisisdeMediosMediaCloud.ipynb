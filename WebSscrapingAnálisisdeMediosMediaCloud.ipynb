{
  "cells": [
    {
      "cell_type": "markdown",
      "source": [
        "**Importación de las librerias necesarias para la extración de la información.**\n",
        "\n",
        "\n",
        "\n"
      ],
      "metadata": {
        "id": "RJ4h9Yd-m9Z5"
      }
    },
    {
      "cell_type": "code",
      "execution_count": null,
      "metadata": {
        "colab": {
          "base_uri": "https://localhost:8080/"
        },
        "id": "WpOE-19Us9UQ",
        "outputId": "fc30c041-8671-480f-b9c9-b453637b5b7b"
      },
      "outputs": [
        {
          "output_type": "stream",
          "name": "stdout",
          "text": [
            "Collecting mediacloud\n",
            "  Downloading mediacloud-4.3.0-py3-none-any.whl.metadata (4.3 kB)\n",
            "Requirement already satisfied: requests==2.* in /usr/local/lib/python3.11/dist-packages (from mediacloud) (2.32.3)\n",
            "Requirement already satisfied: charset-normalizer<4,>=2 in /usr/local/lib/python3.11/dist-packages (from requests==2.*->mediacloud) (3.4.1)\n",
            "Requirement already satisfied: idna<4,>=2.5 in /usr/local/lib/python3.11/dist-packages (from requests==2.*->mediacloud) (3.10)\n",
            "Requirement already satisfied: urllib3<3,>=1.21.1 in /usr/local/lib/python3.11/dist-packages (from requests==2.*->mediacloud) (2.3.0)\n",
            "Requirement already satisfied: certifi>=2017.4.17 in /usr/local/lib/python3.11/dist-packages (from requests==2.*->mediacloud) (2025.1.31)\n",
            "Downloading mediacloud-4.3.0-py3-none-any.whl (19 kB)\n",
            "Installing collected packages: mediacloud\n",
            "Successfully installed mediacloud-4.3.0\n"
          ]
        }
      ],
      "source": [
        "!pip install mediacloud\n",
        "import os, mediacloud.api\n",
        "from importlib.metadata import version\n",
        "import datetime as dt\n",
        "from IPython.display import JSON\n",
        "import requests\n",
        "import pandas as pd\n",
        "import csv\n",
        "from google.colab import files\n",
        "from urllib.parse import urlparse\n",
        "from concurrent.futures import ThreadPoolExecutor"
      ]
    },
    {
      "cell_type": "markdown",
      "source": [
        "**Configuración del API Key de Media Cloud.**"
      ],
      "metadata": {
        "id": "dHG18XJznNta"
      }
    },
    {
      "cell_type": "code",
      "execution_count": null,
      "metadata": {
        "colab": {
          "base_uri": "https://localhost:8080/",
          "height": 35
        },
        "id": "3NO2DqoAn9kf",
        "outputId": "341521c5-8a9c-486a-c9f9-3c10af256e08"
      },
      "outputs": [
        {
          "output_type": "execute_result",
          "data": {
            "text/plain": [
              "'Using Media Cloud python client v4.3.0'"
            ],
            "application/vnd.google.colaboratory.intrinsic+json": {
              "type": "string"
            }
          },
          "metadata": {},
          "execution_count": 3
        }
      ],
      "source": [
        "MC_API_KEY = 'Your API Key'\n",
        "search_api = mediacloud.api.SearchApi(MC_API_KEY)\n",
        "f'Using Media Cloud python client v{version(\"mediacloud\")}'"
      ]
    },
    {
      "cell_type": "markdown",
      "source": [
        "**Selecciones de las colecciones con las que cuenta Media Cloud y de donde se quiere extraer la información.**"
      ],
      "metadata": {
        "id": "HFUMsu8LniA6"
      }
    },
    {
      "cell_type": "code",
      "execution_count": null,
      "metadata": {
        "id": "vjON3ghz_6K5"
      },
      "outputs": [],
      "source": [
        "COLLECTION_US_NATIONAL = 34412234\n",
        "US_SPANISH_LANGUAGE_COLLECTION = 196136637\n",
        "MEXICO_STATE_LOCAL = 38380322\n",
        "MEXICO_NATIONAL = 34412427\n",
        "COLOMBIA_STATE_LOCAL = 38379514\n",
        "COLOMBIA_NATIONAL = 34412358\n",
        "\n",
        "\n",
        "id_colections = [COLLECTION_US_NATIONAL, US_SPANISH_LANGUAGE_COLLECTION, MEXICO_NATIONAL, MEXICO_STATE_LOCAL, COLOMBIA_NATIONAL, COLOMBIA_STATE_LOCAL]"
      ]
    },
    {
      "cell_type": "markdown",
      "source": [
        "**Parámetros básicos de la solicitud.**\n",
        "\n",
        "* En este punto, para hacer una busqueda en otro idioma, por ejemplo inglés, solo basta con usar colecciones en ese idioma."
      ],
      "metadata": {
        "id": "slwkIB1voB2-"
      }
    },
    {
      "cell_type": "code",
      "execution_count": null,
      "metadata": {
        "colab": {
          "base_uri": "https://localhost:8080/"
        },
        "id": "IA_TjCFhVEqP",
        "outputId": "01008406-5c2a-4127-fe73-6122aeeb8531"
      },
      "outputs": [
        {
          "output_type": "execute_result",
          "data": {
            "text/plain": [
              "{'relevant': 35195, 'total': 7322372}"
            ]
          },
          "metadata": {},
          "execution_count": 5
        }
      ],
      "source": [
        "my_query = '\"fentanilo\"'\n",
        "start_date = dt.date(2024, 1, 1)\n",
        "end_date = dt.date(2024, 12, 31)\n",
        "\n",
        "search_api.story_count(my_query, start_date, end_date, id_colections)"
      ]
    },
    {
      "cell_type": "markdown",
      "source": [
        "**Convertir las fechas a un formato ISO y serializar los resultados a un formato JSON.**"
      ],
      "metadata": {
        "id": "rRpUnjvzon2R"
      }
    },
    {
      "cell_type": "code",
      "execution_count": null,
      "metadata": {
        "colab": {
          "base_uri": "https://localhost:8080/",
          "height": 35
        },
        "id": "SQxoqfmoWfGX",
        "outputId": "ee38a694-69f7-43f4-d15f-34655e810f8d"
      },
      "outputs": [
        {
          "output_type": "execute_result",
          "data": {
            "text/plain": [
              "<IPython.core.display.JSON object>"
            ],
            "application/json": [
              {
                "date": "2024-01-01",
                "total_count": 13178,
                "count": 41,
                "ratio": 0.0031112460160874185
              },
              {
                "date": "2024-01-02",
                "total_count": 17649,
                "count": 86,
                "ratio": 0.004872797325627514
              },
              {
                "date": "2024-01-03",
                "total_count": 14170,
                "count": 19,
                "ratio": 0.001340860973888497
              },
              {
                "date": "2024-01-04",
                "total_count": 7585,
                "count": 12,
                "ratio": 0.0015820698747528016
              },
              {
                "date": "2024-01-05",
                "total_count": 20408,
                "count": 75,
                "ratio": 0.003675029400235202
              },
              {
                "date": "2024-01-06",
                "total_count": 12313,
                "count": 13,
                "ratio": 0.0010557946885405669
              },
              {
                "date": "2024-01-07",
                "total_count": 12757,
                "count": 12,
                "ratio": 0.0009406600297875677
              },
              {
                "date": "2024-01-08",
                "total_count": 20635,
                "count": 51,
                "ratio": 0.002471528955657863
              },
              {
                "date": "2024-01-09",
                "total_count": 22487,
                "count": 26,
                "ratio": 0.001156223595855383
              },
              {
                "date": "2024-01-10",
                "total_count": 24394,
                "count": 32,
                "ratio": 0.001311797983110601
              },
              {
                "date": "2024-01-11",
                "total_count": 23678,
                "count": 33,
                "ratio": 0.0013936987921277135
              },
              {
                "date": "2024-01-12",
                "total_count": 21393,
                "count": 17,
                "ratio": 0.0007946524564109756
              },
              {
                "date": "2024-01-13",
                "total_count": 13465,
                "count": 20,
                "ratio": 0.0014853323431117712
              },
              {
                "date": "2024-01-14",
                "total_count": 12377,
                "count": 11,
                "ratio": 0.0008887452532923972
              },
              {
                "date": "2024-01-15",
                "total_count": 18825,
                "count": 19,
                "ratio": 0.0010092961487383797
              },
              {
                "date": "2024-01-16",
                "total_count": 22075,
                "count": 16,
                "ratio": 0.00072480181200453
              },
              {
                "date": "2024-01-17",
                "total_count": 22793,
                "count": 38,
                "ratio": 0.001667178519720967
              },
              {
                "date": "2024-01-18",
                "total_count": 22557,
                "count": 57,
                "ratio": 0.0025269317728421332
              },
              {
                "date": "2024-01-19",
                "total_count": 20802,
                "count": 33,
                "ratio": 0.0015863859244303433
              },
              {
                "date": "2024-01-20",
                "total_count": 12271,
                "count": 22,
                "ratio": 0.001792844918914514
              },
              {
                "date": "2024-01-21",
                "total_count": 12593,
                "count": 55,
                "ratio": 0.00436750575716668
              },
              {
                "date": "2024-01-22",
                "total_count": 20717,
                "count": 32,
                "ratio": 0.0015446251870444563
              },
              {
                "date": "2024-01-23",
                "total_count": 22719,
                "count": 34,
                "ratio": 0.0014965447422861922
              },
              {
                "date": "2024-01-24",
                "total_count": 22906,
                "count": 45,
                "ratio": 0.001964550772723304
              },
              {
                "date": "2024-01-25",
                "total_count": 22650,
                "count": 39,
                "ratio": 0.0017218543046357616
              },
              {
                "date": "2024-01-26",
                "total_count": 20351,
                "count": 153,
                "ratio": 0.007518058080683996
              },
              {
                "date": "2024-01-27",
                "total_count": 12411,
                "count": 64,
                "ratio": 0.005156715816614294
              },
              {
                "date": "2024-01-28",
                "total_count": 11690,
                "count": 74,
                "ratio": 0.006330196749358426
              },
              {
                "date": "2024-01-29",
                "total_count": 19812,
                "count": 99,
                "ratio": 0.004996971532404603
              },
              {
                "date": "2024-01-30",
                "total_count": 22833,
                "count": 100,
                "ratio": 0.004379625979941313
              },
              {
                "date": "2024-01-31",
                "total_count": 22625,
                "count": 128,
                "ratio": 0.005657458563535911
              },
              {
                "date": "2024-02-01",
                "total_count": 23034,
                "count": 134,
                "ratio": 0.005817487192845359
              },
              {
                "date": "2024-02-02",
                "total_count": 20897,
                "count": 40,
                "ratio": 0.001914150356510504
              },
              {
                "date": "2024-02-03",
                "total_count": 12497,
                "count": 18,
                "ratio": 0.0014403456829639113
              },
              {
                "date": "2024-02-04",
                "total_count": 12265,
                "count": 41,
                "ratio": 0.003342845495311863
              },
              {
                "date": "2024-02-05",
                "total_count": 19893,
                "count": 147,
                "ratio": 0.007389534006937114
              },
              {
                "date": "2024-02-06",
                "total_count": 23695,
                "count": 182,
                "ratio": 0.007680945347119645
              },
              {
                "date": "2024-02-07",
                "total_count": 24002,
                "count": 187,
                "ratio": 0.007791017415215398
              },
              {
                "date": "2024-02-08",
                "total_count": 24230,
                "count": 112,
                "ratio": 0.004622368964094098
              },
              {
                "date": "2024-02-09",
                "total_count": 21212,
                "count": 53,
                "ratio": 0.0024985857062040356
              },
              {
                "date": "2024-02-10",
                "total_count": 13881,
                "count": 22,
                "ratio": 0.0015849002233268496
              },
              {
                "date": "2024-02-11",
                "total_count": 13288,
                "count": 24,
                "ratio": 0.001806140878988561
              },
              {
                "date": "2024-02-12",
                "total_count": 20584,
                "count": 60,
                "ratio": 0.0029148853478429848
              },
              {
                "date": "2024-02-13",
                "total_count": 23403,
                "count": 101,
                "ratio": 0.004315686023159424
              },
              {
                "date": "2024-02-14",
                "total_count": 23537,
                "count": 81,
                "ratio": 0.0034413901516760844
              },
              {
                "date": "2024-02-15",
                "total_count": 23437,
                "count": 114,
                "ratio": 0.004864103767547041
              },
              {
                "date": "2024-02-16",
                "total_count": 21378,
                "count": 92,
                "ratio": 0.0043034895687155015
              },
              {
                "date": "2024-02-17",
                "total_count": 12833,
                "count": 34,
                "ratio": 0.002649419465440661
              },
              {
                "date": "2024-02-18",
                "total_count": 12164,
                "count": 62,
                "ratio": 0.005097007563301546
              },
              {
                "date": "2024-02-19",
                "total_count": 18646,
                "count": 68,
                "ratio": 0.003646894776359541
              },
              {
                "date": "2024-02-20",
                "total_count": 22525,
                "count": 50,
                "ratio": 0.0022197558268590455
              },
              {
                "date": "2024-02-21",
                "total_count": 23080,
                "count": 38,
                "ratio": 0.0016464471403812824
              },
              {
                "date": "2024-02-22",
                "total_count": 23090,
                "count": 45,
                "ratio": 0.0019488956258120397
              },
              {
                "date": "2024-02-23",
                "total_count": 21197,
                "count": 62,
                "ratio": 0.0029249422088031326
              },
              {
                "date": "2024-02-24",
                "total_count": 12601,
                "count": 41,
                "ratio": 0.0032537100230140463
              },
              {
                "date": "2024-02-25",
                "total_count": 12180,
                "count": 23,
                "ratio": 0.0018883415435139573
              },
              {
                "date": "2024-02-26",
                "total_count": 20337,
                "count": 63,
                "ratio": 0.0030978020356984804
              },
              {
                "date": "2024-02-27",
                "total_count": 22110,
                "count": 48,
                "ratio": 0.002170963364993216
              },
              {
                "date": "2024-02-28",
                "total_count": 22588,
                "count": 36,
                "ratio": 0.0015937666017354348
              },
              {
                "date": "2024-02-29",
                "total_count": 23681,
                "count": 36,
                "ratio": 0.0015202060723787003
              },
              {
                "date": "2024-03-01",
                "total_count": 21610,
                "count": 45,
                "ratio": 0.0020823692734844978
              },
              {
                "date": "2024-03-02",
                "total_count": 13784,
                "count": 86,
                "ratio": 0.006239117817759722
              },
              {
                "date": "2024-03-03",
                "total_count": 12190,
                "count": 54,
                "ratio": 0.004429860541427399
              },
              {
                "date": "2024-03-04",
                "total_count": 21037,
                "count": 69,
                "ratio": 0.003279935351998859
              },
              {
                "date": "2024-03-05",
                "total_count": 22719,
                "count": 80,
                "ratio": 0.0035212817465557463
              },
              {
                "date": "2024-03-06",
                "total_count": 22729,
                "count": 35,
                "ratio": 0.001539882968894364
              },
              {
                "date": "2024-03-07",
                "total_count": 23330,
                "count": 45,
                "ratio": 0.0019288469781397343
              },
              {
                "date": "2024-03-08",
                "total_count": 21705,
                "count": 25,
                "ratio": 0.001151808339092375
              },
              {
                "date": "2024-03-09",
                "total_count": 13473,
                "count": 18,
                "ratio": 0.0013360053440213762
              },
              {
                "date": "2024-03-10",
                "total_count": 13408,
                "count": 41,
                "ratio": 0.003057875894988067
              },
              {
                "date": "2024-03-11",
                "total_count": 21488,
                "count": 154,
                "ratio": 0.007166790766939687
              },
              {
                "date": "2024-03-12",
                "total_count": 23039,
                "count": 63,
                "ratio": 0.0027344936846217284
              },
              {
                "date": "2024-03-13",
                "total_count": 23536,
                "count": 43,
                "ratio": 0.001826988443235894
              },
              {
                "date": "2024-03-14",
                "total_count": 23469,
                "count": 53,
                "ratio": 0.0022582981805786355
              },
              {
                "date": "2024-03-15",
                "total_count": 21272,
                "count": 46,
                "ratio": 0.0021624670928920646
              },
              {
                "date": "2024-03-16",
                "total_count": 12574,
                "count": 62,
                "ratio": 0.004930809607125815
              },
              {
                "date": "2024-03-17",
                "total_count": 11584,
                "count": 9,
                "ratio": 0.0007769337016574585
              },
              {
                "date": "2024-03-18",
                "total_count": 17451,
                "count": 27,
                "ratio": 0.0015471892728210418
              },
              {
                "date": "2024-03-19",
                "total_count": 21930,
                "count": 39,
                "ratio": 0.0017783857729138167
              },
              {
                "date": "2024-03-20",
                "total_count": 22538,
                "count": 65,
                "ratio": 0.0028840181027597837
              },
              {
                "date": "2024-03-21",
                "total_count": 23095,
                "count": 24,
                "ratio": 0.0010391859709893917
              },
              {
                "date": "2024-03-22",
                "total_count": 21031,
                "count": 61,
                "ratio": 0.002900480243450145
              },
              {
                "date": "2024-03-23",
                "total_count": 12990,
                "count": 30,
                "ratio": 0.0023094688221709007
              },
              {
                "date": "2024-03-24",
                "total_count": 11923,
                "count": 29,
                "ratio": 0.002432273756604881
              },
              {
                "date": "2024-03-25",
                "total_count": 19719,
                "count": 140,
                "ratio": 0.007099751508697196
              },
              {
                "date": "2024-03-26",
                "total_count": 21554,
                "count": 81,
                "ratio": 0.003758003154866846
              },
              {
                "date": "2024-03-27",
                "total_count": 20239,
                "count": 37,
                "ratio": 0.0018281535648994515
              },
              {
                "date": "2024-03-28",
                "total_count": 18907,
                "count": 30,
                "ratio": 0.0015867139154810389
              },
              {
                "date": "2024-03-29",
                "total_count": 15073,
                "count": 21,
                "ratio": 0.0013932196643004046
              },
              {
                "date": "2024-03-30",
                "total_count": 11179,
                "count": 14,
                "ratio": 0.0012523481527864746
              },
              {
                "date": "2024-03-31",
                "total_count": 10926,
                "count": 8,
                "ratio": 0.0007321984257733846
              },
              {
                "date": "2024-04-01",
                "total_count": 18313,
                "count": 19,
                "ratio": 0.0010375143340796155
              },
              {
                "date": "2024-04-02",
                "total_count": 20997,
                "count": 71,
                "ratio": 0.0033814354431585467
              },
              {
                "date": "2024-04-03",
                "total_count": 21357,
                "count": 29,
                "ratio": 0.0013578686145057826
              },
              {
                "date": "2024-04-04",
                "total_count": 21360,
                "count": 18,
                "ratio": 0.0008426966292134832
              },
              {
                "date": "2024-04-05",
                "total_count": 20107,
                "count": 13,
                "ratio": 0.0006465410056199334
              },
              {
                "date": "2024-04-06",
                "total_count": 12403,
                "count": 14,
                "ratio": 0.0011287591711682658
              },
              {
                "date": "2024-04-07",
                "total_count": 11731,
                "count": 15,
                "ratio": 0.0012786633705566448
              },
              {
                "date": "2024-04-08",
                "total_count": 18105,
                "count": 21,
                "ratio": 0.00115990057995029
              },
              {
                "date": "2024-04-09",
                "total_count": 21333,
                "count": 43,
                "ratio": 0.0020156564946327287
              },
              {
                "date": "2024-04-10",
                "total_count": 22433,
                "count": 30,
                "ratio": 0.0013373155618954218
              },
              {
                "date": "2024-04-11",
                "total_count": 21533,
                "count": 52,
                "ratio": 0.0024148980634375143
              },
              {
                "date": "2024-04-12",
                "total_count": 20325,
                "count": 82,
                "ratio": 0.004034440344403444
              },
              {
                "date": "2024-04-13",
                "total_count": 12533,
                "count": 25,
                "ratio": 0.001994733902497407
              },
              {
                "date": "2024-04-14",
                "total_count": 11898,
                "count": 14,
                "ratio": 0.001176668347621449
              },
              {
                "date": "2024-04-15",
                "total_count": 20337,
                "count": 20,
                "ratio": 0.0009834292176820573
              },
              {
                "date": "2024-04-16",
                "total_count": 22102,
                "count": 71,
                "ratio": 0.0032123789702289385
              },
              {
                "date": "2024-04-17",
                "total_count": 22010,
                "count": 52,
                "ratio": 0.0023625624716038162
              },
              {
                "date": "2024-04-18",
                "total_count": 22280,
                "count": 46,
                "ratio": 0.0020646319569120287
              },
              {
                "date": "2024-04-19",
                "total_count": 20163,
                "count": 45,
                "ratio": 0.0022318107424490405
              },
              {
                "date": "2024-04-20",
                "total_count": 12012,
                "count": 6,
                "ratio": 0.0004995004995004995
              },
              {
                "date": "2024-04-21",
                "total_count": 13122,
                "count": 47,
                "ratio": 0.003581771071483006
              },
              {
                "date": "2024-04-22",
                "total_count": 21875,
                "count": 38,
                "ratio": 0.0017371428571428572
              },
              {
                "date": "2024-04-23",
                "total_count": 24012,
                "count": 135,
                "ratio": 0.005622188905547227
              },
              {
                "date": "2024-04-24",
                "total_count": 24822,
                "count": 87,
                "ratio": 0.0035049552816050276
              },
              {
                "date": "2024-04-25",
                "total_count": 24782,
                "count": 111,
                "ratio": 0.00447905738035671
              },
              {
                "date": "2024-04-26",
                "total_count": 22512,
                "count": 181,
                "ratio": 0.008040156361051884
              },
              {
                "date": "2024-04-27",
                "total_count": 14573,
                "count": 53,
                "ratio": 0.0036368626912783916
              },
              {
                "date": "2024-04-28",
                "total_count": 13124,
                "count": 61,
                "ratio": 0.004647973178908869
              },
              {
                "date": "2024-04-29",
                "total_count": 22538,
                "count": 88,
                "ratio": 0.0039045168160440147
              },
              {
                "date": "2024-04-30",
                "total_count": 24425,
                "count": 167,
                "ratio": 0.006837256908904811
              },
              {
                "date": "2024-05-01",
                "total_count": 20534,
                "count": 43,
                "ratio": 0.002094087854290445
              },
              {
                "date": "2024-05-02",
                "total_count": 23121,
                "count": 39,
                "ratio": 0.0016867782535357468
              },
              {
                "date": "2024-05-03",
                "total_count": 22129,
                "count": 29,
                "ratio": 0.0013104975371684216
              },
              {
                "date": "2024-05-04",
                "total_count": 13907,
                "count": 13,
                "ratio": 0.0009347810455166463
              },
              {
                "date": "2024-05-05",
                "total_count": 13028,
                "count": 12,
                "ratio": 0.00092109303039607
              },
              {
                "date": "2024-05-06",
                "total_count": 22330,
                "count": 11,
                "ratio": 0.0004926108374384236
              },
              {
                "date": "2024-05-07",
                "total_count": 24767,
                "count": 89,
                "ratio": 0.0035934913392821092
              },
              {
                "date": "2024-05-08",
                "total_count": 24603,
                "count": 76,
                "ratio": 0.003089054180384506
              },
              {
                "date": "2024-05-09",
                "total_count": 24639,
                "count": 189,
                "ratio": 0.007670765859004018
              },
              {
                "date": "2024-05-10",
                "total_count": 22893,
                "count": 162,
                "ratio": 0.007076398899226838
              },
              {
                "date": "2024-05-11",
                "total_count": 13849,
                "count": 20,
                "ratio": 0.0014441475918838904
              },
              {
                "date": "2024-05-12",
                "total_count": 13394,
                "count": 9,
                "ratio": 0.0006719426608929372
              },
              {
                "date": "2024-05-13",
                "total_count": 22259,
                "count": 61,
                "ratio": 0.0027404645312008626
              },
              {
                "date": "2024-05-14",
                "total_count": 25732,
                "count": 72,
                "ratio": 0.002798072438986476
              },
              {
                "date": "2024-05-15",
                "total_count": 25049,
                "count": 88,
                "ratio": 0.0035131142959798794
              },
              {
                "date": "2024-05-16",
                "total_count": 24625,
                "count": 126,
                "ratio": 0.005116751269035533
              },
              {
                "date": "2024-05-17",
                "total_count": 22728,
                "count": 37,
                "ratio": 0.0016279479056670186
              },
              {
                "date": "2024-05-18",
                "total_count": 13270,
                "count": 53,
                "ratio": 0.0039939713639789
              },
              {
                "date": "2024-05-19",
                "total_count": 13802,
                "count": 10,
                "ratio": 0.0007245326764237067
              },
              {
                "date": "2024-05-20",
                "total_count": 22278,
                "count": 12,
                "ratio": 0.0005386479935362241
              },
              {
                "date": "2024-05-21",
                "total_count": 24042,
                "count": 31,
                "ratio": 0.0012894101988187338
              },
              {
                "date": "2024-05-22",
                "total_count": 24243,
                "count": 111,
                "ratio": 0.00457864125727014
              },
              {
                "date": "2024-05-23",
                "total_count": 24361,
                "count": 100,
                "ratio": 0.004104921801239687
              },
              {
                "date": "2024-05-24",
                "total_count": 21772,
                "count": 25,
                "ratio": 0.0011482638250964541
              },
              {
                "date": "2024-05-25",
                "total_count": 13585,
                "count": 121,
                "ratio": 0.008906882591093117
              },
              {
                "date": "2024-05-26",
                "total_count": 12841,
                "count": 58,
                "ratio": 0.004516782182073047
              },
              {
                "date": "2024-05-27",
                "total_count": 18261,
                "count": 44,
                "ratio": 0.00240950659876239
              },
              {
                "date": "2024-05-28",
                "total_count": 22958,
                "count": 44,
                "ratio": 0.0019165432528965938
              },
              {
                "date": "2024-05-29",
                "total_count": 24125,
                "count": 29,
                "ratio": 0.0012020725388601037
              },
              {
                "date": "2024-05-30",
                "total_count": 23382,
                "count": 30,
                "ratio": 0.0012830382345393892
              },
              {
                "date": "2024-05-31",
                "total_count": 22462,
                "count": 27,
                "ratio": 0.0012020300952720149
              },
              {
                "date": "2024-06-01",
                "total_count": 13061,
                "count": 11,
                "ratio": 0.0008422019753464513
              },
              {
                "date": "2024-06-02",
                "total_count": 16247,
                "count": 14,
                "ratio": 0.0008616975441619991
              },
              {
                "date": "2024-06-03",
                "total_count": 22337,
                "count": 27,
                "ratio": 0.0012087567712763575
              },
              {
                "date": "2024-06-04",
                "total_count": 24073,
                "count": 37,
                "ratio": 0.00153699165039671
              },
              {
                "date": "2024-06-05",
                "total_count": 24395,
                "count": 31,
                "ratio": 0.0012707522033203525
              },
              {
                "date": "2024-06-06",
                "total_count": 24794,
                "count": 72,
                "ratio": 0.002903928369766879
              },
              {
                "date": "2024-06-07",
                "total_count": 22198,
                "count": 23,
                "ratio": 0.0010361293810253176
              },
              {
                "date": "2024-06-08",
                "total_count": 13278,
                "count": 16,
                "ratio": 0.0012050007531254707
              },
              {
                "date": "2024-06-09",
                "total_count": 13396,
                "count": 11,
                "ratio": 0.0008211406389967154
              },
              {
                "date": "2024-06-10",
                "total_count": 21237,
                "count": 28,
                "ratio": 0.0013184536422281867
              },
              {
                "date": "2024-06-11",
                "total_count": 23922,
                "count": 25,
                "ratio": 0.0010450631218125574
              },
              {
                "date": "2024-06-12",
                "total_count": 25140,
                "count": 43,
                "ratio": 0.0017104216388225935
              },
              {
                "date": "2024-06-13",
                "total_count": 23984,
                "count": 37,
                "ratio": 0.0015426951300867246
              },
              {
                "date": "2024-06-14",
                "total_count": 21337,
                "count": 22,
                "ratio": 0.0010310727843651872
              },
              {
                "date": "2024-06-15",
                "total_count": 12754,
                "count": 10,
                "ratio": 0.0007840677434530343
              },
              {
                "date": "2024-06-16",
                "total_count": 12513,
                "count": 44,
                "ratio": 0.0035163430032765924
              },
              {
                "date": "2024-06-17",
                "total_count": 21445,
                "count": 13,
                "ratio": 0.0006062019118675682
              },
              {
                "date": "2024-06-18",
                "total_count": 23686,
                "count": 46,
                "ratio": 0.0019420754876298236
              },
              {
                "date": "2024-06-19",
                "total_count": 21520,
                "count": 31,
                "ratio": 0.0014405204460966542
              },
              {
                "date": "2024-06-20",
                "total_count": 23656,
                "count": 63,
                "ratio": 0.002663172133919513
              },
              {
                "date": "2024-06-21",
                "total_count": 21531,
                "count": 29,
                "ratio": 0.0013468951743997027
              },
              {
                "date": "2024-06-22",
                "total_count": 12726,
                "count": 26,
                "ratio": 0.002043061449002043
              },
              {
                "date": "2024-06-23",
                "total_count": 13043,
                "count": 12,
                "ratio": 0.0009200337345702676
              },
              {
                "date": "2024-06-24",
                "total_count": 21746,
                "count": 25,
                "ratio": 0.0011496367147981238
              },
              {
                "date": "2024-06-25",
                "total_count": 24234,
                "count": 22,
                "ratio": 0.0009078154658743913
              },
              {
                "date": "2024-06-26",
                "total_count": 23784,
                "count": 93,
                "ratio": 0.003910191725529768
              },
              {
                "date": "2024-06-27",
                "total_count": 23947,
                "count": 72,
                "ratio": 0.003006639662588216
              },
              {
                "date": "2024-06-28",
                "total_count": 21867,
                "count": 32,
                "ratio": 0.0014633923263364889
              },
              {
                "date": "2024-06-29",
                "total_count": 13122,
                "count": 9,
                "ratio": 0.0006858710562414266
              },
              {
                "date": "2024-06-30",
                "total_count": 13032,
                "count": 2,
                "ratio": 0.0001534683855125844
              },
              {
                "date": "2024-07-01",
                "total_count": 21102,
                "count": 70,
                "ratio": 0.00331722111648185
              },
              {
                "date": "2024-07-02",
                "total_count": 22949,
                "count": 67,
                "ratio": 0.002919517190291516
              },
              {
                "date": "2024-07-03",
                "total_count": 22244,
                "count": 31,
                "ratio": 0.0013936342384463225
              },
              {
                "date": "2024-07-04",
                "total_count": 18325,
                "count": 25,
                "ratio": 0.001364256480218281
              },
              {
                "date": "2024-07-05",
                "total_count": 19527,
                "count": 27,
                "ratio": 0.0013827008757105546
              },
              {
                "date": "2024-07-06",
                "total_count": 12650,
                "count": 45,
                "ratio": 0.0035573122529644267
              },
              {
                "date": "2024-07-07",
                "total_count": 12418,
                "count": 11,
                "ratio": 0.0008858109196327911
              },
              {
                "date": "2024-07-08",
                "total_count": 21067,
                "count": 22,
                "ratio": 0.001044287273935539
              },
              {
                "date": "2024-07-09",
                "total_count": 22284,
                "count": 43,
                "ratio": 0.0019296356129958716
              },
              {
                "date": "2024-07-10",
                "total_count": 23796,
                "count": 33,
                "ratio": 0.0013867876954109935
              },
              {
                "date": "2024-07-11",
                "total_count": 23194,
                "count": 23,
                "ratio": 0.0009916357678710012
              },
              {
                "date": "2024-07-12",
                "total_count": 21707,
                "count": 25,
                "ratio": 0.0011517022158750634
              },
              {
                "date": "2024-07-13",
                "total_count": 13389,
                "count": 15,
                "ratio": 0.001120322652924042
              },
              {
                "date": "2024-07-14",
                "total_count": 13907,
                "count": 8,
                "ratio": 0.0005752498741640901
              },
              {
                "date": "2024-07-15",
                "total_count": 21531,
                "count": 20,
                "ratio": 0.0009288932237239329
              },
              {
                "date": "2024-07-16",
                "total_count": 23990,
                "count": 99,
                "ratio": 0.004126719466444352
              },
              {
                "date": "2024-07-17",
                "total_count": 26450,
                "count": 114,
                "ratio": 0.004310018903591682
              },
              {
                "date": "2024-07-18",
                "total_count": 23203,
                "count": 71,
                "ratio": 0.003059949144507176
              },
              {
                "date": "2024-07-19",
                "total_count": 22034,
                "count": 42,
                "ratio": 0.0019061450485613144
              },
              {
                "date": "2024-07-20",
                "total_count": 12666,
                "count": 9,
                "ratio": 0.0007105637138796779
              },
              {
                "date": "2024-07-21",
                "total_count": 13195,
                "count": 6,
                "ratio": 0.0004547176960970064
              },
              {
                "date": "2024-07-22",
                "total_count": 21707,
                "count": 27,
                "ratio": 0.0012438383931450685
              },
              {
                "date": "2024-07-23",
                "total_count": 23080,
                "count": 56,
                "ratio": 0.0024263431542461003
              },
              {
                "date": "2024-07-24",
                "total_count": 23413,
                "count": 76,
                "ratio": 0.0032460598812625464
              },
              {
                "date": "2024-07-25",
                "total_count": 23078,
                "count": 447,
                "ratio": 0.019369096108848252
              },
              {
                "date": "2024-07-26",
                "total_count": 21937,
                "count": 563,
                "ratio": 0.025664402607466837
              },
              {
                "date": "2024-07-27",
                "total_count": 13018,
                "count": 203,
                "ratio": 0.015593793209402365
              },
              {
                "date": "2024-07-28",
                "total_count": 13417,
                "count": 99,
                "ratio": 0.007378698665871655
              },
              {
                "date": "2024-07-29",
                "total_count": 21967,
                "count": 201,
                "ratio": 0.009150088769517914
              },
              {
                "date": "2024-07-30",
                "total_count": 24250,
                "count": 151,
                "ratio": 0.0062268041237113405
              },
              {
                "date": "2024-07-31",
                "total_count": 23745,
                "count": 188,
                "ratio": 0.007917456306590862
              },
              {
                "date": "2024-08-01",
                "total_count": 22735,
                "count": 136,
                "ratio": 0.005981966131515285
              },
              {
                "date": "2024-08-02",
                "total_count": 20973,
                "count": 79,
                "ratio": 0.003766747723263243
              },
              {
                "date": "2024-08-03",
                "total_count": 12861,
                "count": 16,
                "ratio": 0.001244071223077521
              },
              {
                "date": "2024-08-04",
                "total_count": 12609,
                "count": 18,
                "ratio": 0.0014275517487508922
              },
              {
                "date": "2024-08-05",
                "total_count": 21743,
                "count": 62,
                "ratio": 0.0028514924343466864
              },
              {
                "date": "2024-08-06",
                "total_count": 22760,
                "count": 77,
                "ratio": 0.003383128295254833
              },
              {
                "date": "2024-08-07",
                "total_count": 22857,
                "count": 104,
                "ratio": 0.004550028437677735
              },
              {
                "date": "2024-08-08",
                "total_count": 23380,
                "count": 77,
                "ratio": 0.0032934131736526945
              },
              {
                "date": "2024-08-09",
                "total_count": 22090,
                "count": 49,
                "ratio": 0.0022181982797645993
              },
              {
                "date": "2024-08-10",
                "total_count": 13960,
                "count": 136,
                "ratio": 0.009742120343839542
              },
              {
                "date": "2024-08-11",
                "total_count": 12664,
                "count": 270,
                "ratio": 0.021320277953253315
              },
              {
                "date": "2024-08-12",
                "total_count": 21112,
                "count": 428,
                "ratio": 0.020272830617658204
              },
              {
                "date": "2024-08-13",
                "total_count": 22118,
                "count": 474,
                "ratio": 0.021430509087620942
              },
              {
                "date": "2024-08-14",
                "total_count": 23195,
                "count": 436,
                "ratio": 0.018797154559172236
              },
              {
                "date": "2024-08-15",
                "total_count": 22640,
                "count": 454,
                "ratio": 0.020053003533568904
              },
              {
                "date": "2024-08-16",
                "total_count": 21153,
                "count": 336,
                "ratio": 0.015884271734505743
              },
              {
                "date": "2024-08-17",
                "total_count": 12092,
                "count": 237,
                "ratio": 0.019599735362222957
              },
              {
                "date": "2024-08-18",
                "total_count": 12192,
                "count": 237,
                "ratio": 0.019438976377952756
              },
              {
                "date": "2024-08-19",
                "total_count": 20205,
                "count": 295,
                "ratio": 0.014600346448898788
              },
              {
                "date": "2024-08-20",
                "total_count": 22660,
                "count": 448,
                "ratio": 0.01977052074139453
              },
              {
                "date": "2024-08-21",
                "total_count": 23151,
                "count": 363,
                "ratio": 0.01567966826486977
              },
              {
                "date": "2024-08-22",
                "total_count": 23324,
                "count": 355,
                "ratio": 0.015220373863831247
              },
              {
                "date": "2024-08-23",
                "total_count": 21578,
                "count": 337,
                "ratio": 0.01561775882843637
              },
              {
                "date": "2024-08-24",
                "total_count": 12499,
                "count": 154,
                "ratio": 0.01232098567885431
              },
              {
                "date": "2024-08-25",
                "total_count": 12489,
                "count": 231,
                "ratio": 0.018496276723516693
              },
              {
                "date": "2024-08-26",
                "total_count": 21530,
                "count": 466,
                "ratio": 0.02164421737111008
              },
              {
                "date": "2024-08-27",
                "total_count": 23423,
                "count": 455,
                "ratio": 0.01942535115057849
              },
              {
                "date": "2024-08-28",
                "total_count": 23912,
                "count": 406,
                "ratio": 0.016978922716627636
              },
              {
                "date": "2024-08-29",
                "total_count": 24194,
                "count": 487,
                "ratio": 0.0201289575927916
              },
              {
                "date": "2024-08-30",
                "total_count": 21525,
                "count": 406,
                "ratio": 0.01886178861788618
              },
              {
                "date": "2024-08-31",
                "total_count": 13472,
                "count": 185,
                "ratio": 0.013732185273159146
              },
              {
                "date": "2024-09-01",
                "total_count": 13185,
                "count": 251,
                "ratio": 0.019036784224497536
              },
              {
                "date": "2024-09-02",
                "total_count": 18472,
                "count": 404,
                "ratio": 0.02187093980077956
              },
              {
                "date": "2024-09-03",
                "total_count": 23148,
                "count": 458,
                "ratio": 0.019785726628650423
              },
              {
                "date": "2024-09-04",
                "total_count": 24238,
                "count": 344,
                "ratio": 0.014192590147701956
              },
              {
                "date": "2024-09-05",
                "total_count": 25991,
                "count": 103,
                "ratio": 0.003962910238159363
              },
              {
                "date": "2024-09-06",
                "total_count": 24348,
                "count": 31,
                "ratio": 0.00127320519139149
              },
              {
                "date": "2024-09-07",
                "total_count": 15269,
                "count": 20,
                "ratio": 0.0013098434737048924
              },
              {
                "date": "2024-09-08",
                "total_count": 15090,
                "count": 117,
                "ratio": 0.007753479125248509
              },
              {
                "date": "2024-09-09",
                "total_count": 25100,
                "count": 91,
                "ratio": 0.0036254980079681275
              },
              {
                "date": "2024-09-10",
                "total_count": 26461,
                "count": 153,
                "ratio": 0.005782094403083784
              },
              {
                "date": "2024-09-11",
                "total_count": 26477,
                "count": 19,
                "ratio": 0.0007176039581523587
              },
              {
                "date": "2024-09-12",
                "total_count": 26527,
                "count": 93,
                "ratio": 0.003505861951973461
              },
              {
                "date": "2024-09-13",
                "total_count": 25227,
                "count": 157,
                "ratio": 0.006223490704404012
              },
              {
                "date": "2024-09-14",
                "total_count": 14662,
                "count": 39,
                "ratio": 0.0026599372527622424
              },
              {
                "date": "2024-09-15",
                "total_count": 15310,
                "count": 49,
                "ratio": 0.003200522534291313
              },
              {
                "date": "2024-09-16",
                "total_count": 22008,
                "count": 17,
                "ratio": 0.0007724463831334061
              },
              {
                "date": "2024-09-17",
                "total_count": 25735,
                "count": 77,
                "ratio": 0.0029920341946765108
              },
              {
                "date": "2024-09-18",
                "total_count": 27035,
                "count": 26,
                "ratio": 0.0009617162936933605
              },
              {
                "date": "2024-09-19",
                "total_count": 26700,
                "count": 132,
                "ratio": 0.004943820224719101
              },
              {
                "date": "2024-09-20",
                "total_count": 24393,
                "count": 55,
                "ratio": 0.0022547452137908416
              },
              {
                "date": "2024-09-21",
                "total_count": 15154,
                "count": 20,
                "ratio": 0.0013197835554968984
              },
              {
                "date": "2024-09-22",
                "total_count": 15102,
                "count": 14,
                "ratio": 0.00092702953251225
              },
              {
                "date": "2024-09-23",
                "total_count": 24496,
                "count": 21,
                "ratio": 0.000857282821685173
              },
              {
                "date": "2024-09-24",
                "total_count": 26448,
                "count": 131,
                "ratio": 0.004953115547489413
              },
              {
                "date": "2024-09-25",
                "total_count": 27197,
                "count": 51,
                "ratio": 0.00187520682428209
              },
              {
                "date": "2024-09-26",
                "total_count": 26885,
                "count": 24,
                "ratio": 0.0008926910916868142
              },
              {
                "date": "2024-09-27",
                "total_count": 24388,
                "count": 74,
                "ratio": 0.0030342791536821386
              },
              {
                "date": "2024-09-28",
                "total_count": 15704,
                "count": 40,
                "ratio": 0.0025471217524197657
              },
              {
                "date": "2024-09-29",
                "total_count": 15226,
                "count": 116,
                "ratio": 0.007618547221857349
              },
              {
                "date": "2024-09-30",
                "total_count": 25219,
                "count": 34,
                "ratio": 0.0013481898568539594
              },
              {
                "date": "2024-10-01",
                "total_count": 26259,
                "count": 45,
                "ratio": 0.001713698160630641
              },
              {
                "date": "2024-10-02",
                "total_count": 27074,
                "count": 75,
                "ratio": 0.002770185417743961
              },
              {
                "date": "2024-10-03",
                "total_count": 26800,
                "count": 49,
                "ratio": 0.001828358208955224
              },
              {
                "date": "2024-10-04",
                "total_count": 24059,
                "count": 25,
                "ratio": 0.0010391121825512283
              },
              {
                "date": "2024-10-05",
                "total_count": 14401,
                "count": 20,
                "ratio": 0.0013887924449690993
              },
              {
                "date": "2024-10-06",
                "total_count": 15007,
                "count": 11,
                "ratio": 0.0007329912707403212
              },
              {
                "date": "2024-10-07",
                "total_count": 24248,
                "count": 44,
                "ratio": 0.001814582645991422
              },
              {
                "date": "2024-10-08",
                "total_count": 27052,
                "count": 40,
                "ratio": 0.0014786337424220022
              },
              {
                "date": "2024-10-09",
                "total_count": 25275,
                "count": 88,
                "ratio": 0.0034817012858555886
              },
              {
                "date": "2024-10-10",
                "total_count": 25569,
                "count": 70,
                "ratio": 0.0027376901716922837
              },
              {
                "date": "2024-10-11",
                "total_count": 22729,
                "count": 56,
                "ratio": 0.0024638127502309825
              },
              {
                "date": "2024-10-12",
                "total_count": 13733,
                "count": 23,
                "ratio": 0.0016747979319886406
              },
              {
                "date": "2024-10-13",
                "total_count": 13653,
                "count": 13,
                "ratio": 0.000952171683879001
              },
              {
                "date": "2024-10-14",
                "total_count": 21613,
                "count": 45,
                "ratio": 0.0020820802294915096
              },
              {
                "date": "2024-10-15",
                "total_count": 25776,
                "count": 35,
                "ratio": 0.0013578522656734948
              },
              {
                "date": "2024-10-16",
                "total_count": 25802,
                "count": 36,
                "ratio": 0.0013952406790171303
              },
              {
                "date": "2024-10-17",
                "total_count": 26051,
                "count": 133,
                "ratio": 0.005105370235307665
              },
              {
                "date": "2024-10-18",
                "total_count": 23970,
                "count": 204,
                "ratio": 0.00851063829787234
              },
              {
                "date": "2024-10-19",
                "total_count": 14070,
                "count": 35,
                "ratio": 0.0024875621890547263
              },
              {
                "date": "2024-10-20",
                "total_count": 14982,
                "count": 18,
                "ratio": 0.0012014417300760913
              },
              {
                "date": "2024-10-21",
                "total_count": 23534,
                "count": 20,
                "ratio": 0.0008498342823149486
              },
              {
                "date": "2024-10-22",
                "total_count": 25981,
                "count": 55,
                "ratio": 0.0021169316038643624
              },
              {
                "date": "2024-10-23",
                "total_count": 26152,
                "count": 23,
                "ratio": 0.0008794738452126032
              },
              {
                "date": "2024-10-24",
                "total_count": 25901,
                "count": 14,
                "ratio": 0.0005405196710551717
              },
              {
                "date": "2024-10-25",
                "total_count": 23701,
                "count": 30,
                "ratio": 0.0012657693768195434
              },
              {
                "date": "2024-10-26",
                "total_count": 14565,
                "count": 14,
                "ratio": 0.0009612083762444215
              },
              {
                "date": "2024-10-27",
                "total_count": 14040,
                "count": 12,
                "ratio": 0.0008547008547008547
              },
              {
                "date": "2024-10-28",
                "total_count": 23422,
                "count": 36,
                "ratio": 0.0015370164802322602
              },
              {
                "date": "2024-10-29",
                "total_count": 24817,
                "count": 122,
                "ratio": 0.004915985010275214
              },
              {
                "date": "2024-10-30",
                "total_count": 26297,
                "count": 69,
                "ratio": 0.002623873445640187
              },
              {
                "date": "2024-10-31",
                "total_count": 25292,
                "count": 150,
                "ratio": 0.005930729084295429
              },
              {
                "date": "2024-11-01",
                "total_count": 22765,
                "count": 46,
                "ratio": 0.002020645728091368
              },
              {
                "date": "2024-11-02",
                "total_count": 14001,
                "count": 20,
                "ratio": 0.0014284693950432112
              },
              {
                "date": "2024-11-03",
                "total_count": 14662,
                "count": 20,
                "ratio": 0.0013640703860319193
              },
              {
                "date": "2024-11-04",
                "total_count": 23322,
                "count": 106,
                "ratio": 0.004545064745733642
              },
              {
                "date": "2024-11-05",
                "total_count": 26640,
                "count": 144,
                "ratio": 0.005405405405405406
              },
              {
                "date": "2024-11-06",
                "total_count": 28008,
                "count": 148,
                "ratio": 0.005284204512996287
              },
              {
                "date": "2024-11-07",
                "total_count": 26200,
                "count": 151,
                "ratio": 0.005763358778625954
              },
              {
                "date": "2024-11-08",
                "total_count": 23752,
                "count": 81,
                "ratio": 0.0034102391377568205
              },
              {
                "date": "2024-11-09",
                "total_count": 14970,
                "count": 94,
                "ratio": 0.006279225116900468
              },
              {
                "date": "2024-11-10",
                "total_count": 15066,
                "count": 13,
                "ratio": 0.0008628700384972787
              },
              {
                "date": "2024-11-11",
                "total_count": 22796,
                "count": 62,
                "ratio": 0.002719775399192841
              },
              {
                "date": "2024-11-12",
                "total_count": 26024,
                "count": 71,
                "ratio": 0.0027282508453735014
              },
              {
                "date": "2024-11-13",
                "total_count": 26984,
                "count": 170,
                "ratio": 0.00630002964719834
              },
              {
                "date": "2024-11-14",
                "total_count": 27056,
                "count": 104,
                "ratio": 0.00384387936132466
              },
              {
                "date": "2024-11-15",
                "total_count": 24333,
                "count": 117,
                "ratio": 0.004808285045000617
              },
              {
                "date": "2024-11-16",
                "total_count": 14421,
                "count": 33,
                "ratio": 0.002288329519450801
              },
              {
                "date": "2024-11-17",
                "total_count": 14012,
                "count": 12,
                "ratio": 0.0008564087924636027
              },
              {
                "date": "2024-11-18",
                "total_count": 22403,
                "count": 24,
                "ratio": 0.0010712850957461054
              },
              {
                "date": "2024-11-19",
                "total_count": 26448,
                "count": 79,
                "ratio": 0.002986993345432547
              },
              {
                "date": "2024-11-20",
                "total_count": 26530,
                "count": 80,
                "ratio": 0.003015454202789295
              },
              {
                "date": "2024-11-21",
                "total_count": 26710,
                "count": 86,
                "ratio": 0.0032197678771995505
              },
              {
                "date": "2024-11-22",
                "total_count": 23876,
                "count": 48,
                "ratio": 0.002010386999497403
              },
              {
                "date": "2024-11-23",
                "total_count": 14562,
                "count": 85,
                "ratio": 0.005837110287048483
              },
              {
                "date": "2024-11-24",
                "total_count": 13993,
                "count": 115,
                "ratio": 0.008218394911741585
              },
              {
                "date": "2024-11-25",
                "total_count": 23742,
                "count": 372,
                "ratio": 0.015668435683598686
              },
              {
                "date": "2024-11-26",
                "total_count": 25996,
                "count": 625,
                "ratio": 0.024042160332358824
              },
              {
                "date": "2024-11-27",
                "total_count": 25539,
                "count": 683,
                "ratio": 0.026743412036493205
              },
              {
                "date": "2024-11-28",
                "total_count": 19835,
                "count": 429,
                "ratio": 0.021628434585328964
              },
              {
                "date": "2024-11-29",
                "total_count": 20506,
                "count": 200,
                "ratio": 0.009753242953281966
              },
              {
                "date": "2024-11-30",
                "total_count": 14373,
                "count": 147,
                "ratio": 0.010227509914422877
              },
              {
                "date": "2024-12-01",
                "total_count": 14720,
                "count": 232,
                "ratio": 0.01576086956521739
              },
              {
                "date": "2024-12-02",
                "total_count": 24143,
                "count": 382,
                "ratio": 0.015822391583481754
              },
              {
                "date": "2024-12-03",
                "total_count": 25355,
                "count": 338,
                "ratio": 0.013330704003155195
              },
              {
                "date": "2024-12-04",
                "total_count": 26154,
                "count": 503,
                "ratio": 0.019232239810354056
              },
              {
                "date": "2024-12-05",
                "total_count": 25179,
                "count": 353,
                "ratio": 0.01401961952420668
              },
              {
                "date": "2024-12-06",
                "total_count": 23304,
                "count": 312,
                "ratio": 0.013388259526261586
              },
              {
                "date": "2024-12-07",
                "total_count": 14481,
                "count": 172,
                "ratio": 0.011877632760168497
              },
              {
                "date": "2024-12-08",
                "total_count": 14444,
                "count": 133,
                "ratio": 0.009207975630019386
              },
              {
                "date": "2024-12-09",
                "total_count": 23581,
                "count": 240,
                "ratio": 0.010177685424706331
              },
              {
                "date": "2024-12-10",
                "total_count": 25547,
                "count": 310,
                "ratio": 0.012134497201236936
              },
              {
                "date": "2024-12-11",
                "total_count": 23999,
                "count": 313,
                "ratio": 0.01304221009208717
              },
              {
                "date": "2024-12-12",
                "total_count": 22860,
                "count": 189,
                "ratio": 0.00826771653543307
              },
              {
                "date": "2024-12-13",
                "total_count": 21272,
                "count": 130,
                "ratio": 0.006111320045129748
              },
              {
                "date": "2024-12-14",
                "total_count": 12599,
                "count": 76,
                "ratio": 0.0060322247797444245
              },
              {
                "date": "2024-12-15",
                "total_count": 11872,
                "count": 105,
                "ratio": 0.00884433962264151
              },
              {
                "date": "2024-12-16",
                "total_count": 21431,
                "count": 170,
                "ratio": 0.007932434324109934
              },
              {
                "date": "2024-12-17",
                "total_count": 22672,
                "count": 205,
                "ratio": 0.009041990119971772
              },
              {
                "date": "2024-12-18",
                "total_count": 23401,
                "count": 183,
                "ratio": 0.007820178624845093
              },
              {
                "date": "2024-12-19",
                "total_count": 22156,
                "count": 160,
                "ratio": 0.007221520129987362
              },
              {
                "date": "2024-12-20",
                "total_count": 18845,
                "count": 39,
                "ratio": 0.002069514460068984
              },
              {
                "date": "2024-12-21",
                "total_count": 11514,
                "count": 46,
                "ratio": 0.003995136355740838
              },
              {
                "date": "2024-12-22",
                "total_count": 11714,
                "count": 121,
                "ratio": 0.010329520232200785
              },
              {
                "date": "2024-12-23",
                "total_count": 18811,
                "count": 219,
                "ratio": 0.011642124288979852
              },
              {
                "date": "2024-12-24",
                "total_count": 14455,
                "count": 96,
                "ratio": 0.006641300588031823
              },
              {
                "date": "2024-12-25",
                "total_count": 8680,
                "count": 50,
                "ratio": 0.00576036866359447
              },
              {
                "date": "2024-12-26",
                "total_count": 15655,
                "count": 92,
                "ratio": 0.005876716703928458
              },
              {
                "date": "2024-12-27",
                "total_count": 16745,
                "count": 72,
                "ratio": 0.0042997909823828005
              },
              {
                "date": "2024-12-28",
                "total_count": 11312,
                "count": 38,
                "ratio": 0.0033592644978783595
              },
              {
                "date": "2024-12-29",
                "total_count": 11477,
                "count": 53,
                "ratio": 0.0046179315152043215
              },
              {
                "date": "2024-12-30",
                "total_count": 17070,
                "count": 186,
                "ratio": 0.010896309314586995
              },
              {
                "date": "2024-12-31",
                "total_count": 15066,
                "count": 155,
                "ratio": 0.0102880658436214
              }
            ]
          },
          "metadata": {
            "application/json": {
              "expanded": false,
              "root": "root"
            }
          },
          "execution_count": 7
        }
      ],
      "source": [
        "results = search_api.story_count_over_time(my_query, start_date, end_date, id_colections)\n",
        "\n",
        "for item in results:\n",
        "    if 'date' in item and isinstance(item['date'], dt.date):\n",
        "        item['date'] = item['date'].isoformat()\n",
        "\n",
        "JSON(results)"
      ]
    },
    {
      "cell_type": "markdown",
      "source": [
        "**Recuperar todos los resultados de la búsqueda, paginando a través de las páginas devueltas por la API.**"
      ],
      "metadata": {
        "id": "sSIE5Tr_qqTI"
      }
    },
    {
      "cell_type": "code",
      "execution_count": null,
      "metadata": {
        "colab": {
          "base_uri": "https://localhost:8080/"
        },
        "id": "DWUc7XI8bSnw",
        "outputId": "3865db8f-a6d5-4d49-accc-1b9ac9287452"
      },
      "outputs": [
        {
          "output_type": "execute_result",
          "data": {
            "text/plain": [
              "1576"
            ]
          },
          "metadata": {},
          "execution_count": 58
        }
      ],
      "source": [
        "all_stories = []\n",
        "more_stories = True\n",
        "pagination_token = None\n",
        "while more_stories:\n",
        "    page, pagination_token = search_api.story_list(my_query, dt.date(2024,12,2), dt.date(2024,12,5), #Explicar los errores presentados cuando los resultados eran mayores de 2000, github.\n",
        "                                                   id_colections,\n",
        "                                                   pagination_token=pagination_token)\n",
        "    all_stories += page\n",
        "    more_stories = pagination_token is not None\n",
        "len(all_stories)"
      ]
    },
    {
      "cell_type": "markdown",
      "source": [
        "**Escribir los resultados de la búsqueda en un archivo CSV llamado story-list.**"
      ],
      "metadata": {
        "id": "YQ3AY_qvrxNg"
      }
    },
    {
      "cell_type": "code",
      "execution_count": null,
      "metadata": {
        "id": "F28mbzDyfA2J"
      },
      "outputs": [],
      "source": [
        "fieldnames = ['id', 'publish_date', 'title', 'url', 'language', 'media_name', 'media_url', 'indexed_date']\n",
        "\n",
        "with open('story-list.csv', 'w', newline='') as csvfile:\n",
        "    writer = csv.DictWriter(csvfile, fieldnames=fieldnames, extrasaction='ignore')\n",
        "    writer.writeheader()\n",
        "    for s in all_stories:\n",
        "        writer.writerow(s)"
      ]
    },
    {
      "cell_type": "code",
      "source": [
        "df = pd.read_csv('story-list.csv')\n",
        "df.head()"
      ],
      "metadata": {
        "colab": {
          "base_uri": "https://localhost:8080/",
          "height": 574
        },
        "id": "0yd-yEWKzlMl",
        "outputId": "4c5d32d5-9351-494f-bf6c-fd3cb289e9c8"
      },
      "execution_count": null,
      "outputs": [
        {
          "output_type": "execute_result",
          "data": {
            "text/plain": [
              "                                                  id publish_date  \\\n",
              "0  afcac91e99b973fbd4a758b621afa267ea9b1ddd0b7ee5...   2024-12-05   \n",
              "1  0d00474cd0ab77480b2e9bdb2d3e4c065a5af5f73c2487...   2024-12-05   \n",
              "2  884774ededef848f2074c7852e5198a63a5636766d72dc...   2024-12-05   \n",
              "3  80f380f4866f176a6e16cffaa8910e73835ff4c47677ef...   2024-12-05   \n",
              "4  95ffa181f0faef5a37efb91f7d2944e247fcc759386548...   2024-12-05   \n",
              "\n",
              "                                               title  \\\n",
              "0                                     SALTO DE LETRA   \n",
              "1  Las noticias mÃ¡s importantes del 5 de diciemb...   \n",
              "2  Niega cambio en estrategia de seguridad, es aj...   \n",
              "3  Rechaza Corte resolver si libros de texto 4T s...   \n",
              "4  Detienen a 'El Gallero', ligado a decomiso de ...   \n",
              "\n",
              "                                                 url language  \\\n",
              "0  https://elheraldodesaltillo.mx/2024/12/05/salt...       es   \n",
              "1  https://vanguardia.com.mx/informacion/las-noti...       es   \n",
              "2  https://elheraldodesaltillo.mx/2024/12/05/nieg...       es   \n",
              "3  https://elheraldodesaltillo.mx/2024/12/05/rech...       es   \n",
              "4  https://elheraldodesaltillo.mx/2024/12/05/deti...       es   \n",
              "\n",
              "               media_name               media_url  \\\n",
              "0  elheraldodesaltillo.mx  elheraldodesaltillo.mx   \n",
              "1       vanguardia.com.mx       vanguardia.com.mx   \n",
              "2  elheraldodesaltillo.mx  elheraldodesaltillo.mx   \n",
              "3  elheraldodesaltillo.mx  elheraldodesaltillo.mx   \n",
              "4  elheraldodesaltillo.mx  elheraldodesaltillo.mx   \n",
              "\n",
              "                       indexed_date  \n",
              "0  2024-12-07 18:24:04.999812+00:00  \n",
              "1  2024-12-07 00:24:45.099983+00:00  \n",
              "2  2024-12-06 18:24:23.117860+00:00  \n",
              "3  2024-12-06 18:24:18.432627+00:00  \n",
              "4  2024-12-06 18:22:51.183113+00:00  "
            ],
            "text/html": [
              "\n",
              "  <div id=\"df-b47f5475-3527-4662-91c4-c33aef56281d\" class=\"colab-df-container\">\n",
              "    <div>\n",
              "<style scoped>\n",
              "    .dataframe tbody tr th:only-of-type {\n",
              "        vertical-align: middle;\n",
              "    }\n",
              "\n",
              "    .dataframe tbody tr th {\n",
              "        vertical-align: top;\n",
              "    }\n",
              "\n",
              "    .dataframe thead th {\n",
              "        text-align: right;\n",
              "    }\n",
              "</style>\n",
              "<table border=\"1\" class=\"dataframe\">\n",
              "  <thead>\n",
              "    <tr style=\"text-align: right;\">\n",
              "      <th></th>\n",
              "      <th>id</th>\n",
              "      <th>publish_date</th>\n",
              "      <th>title</th>\n",
              "      <th>url</th>\n",
              "      <th>language</th>\n",
              "      <th>media_name</th>\n",
              "      <th>media_url</th>\n",
              "      <th>indexed_date</th>\n",
              "    </tr>\n",
              "  </thead>\n",
              "  <tbody>\n",
              "    <tr>\n",
              "      <th>0</th>\n",
              "      <td>afcac91e99b973fbd4a758b621afa267ea9b1ddd0b7ee5...</td>\n",
              "      <td>2024-12-05</td>\n",
              "      <td>SALTO DE LETRA</td>\n",
              "      <td>https://elheraldodesaltillo.mx/2024/12/05/salt...</td>\n",
              "      <td>es</td>\n",
              "      <td>elheraldodesaltillo.mx</td>\n",
              "      <td>elheraldodesaltillo.mx</td>\n",
              "      <td>2024-12-07 18:24:04.999812+00:00</td>\n",
              "    </tr>\n",
              "    <tr>\n",
              "      <th>1</th>\n",
              "      <td>0d00474cd0ab77480b2e9bdb2d3e4c065a5af5f73c2487...</td>\n",
              "      <td>2024-12-05</td>\n",
              "      <td>Las noticias mÃ¡s importantes del 5 de diciemb...</td>\n",
              "      <td>https://vanguardia.com.mx/informacion/las-noti...</td>\n",
              "      <td>es</td>\n",
              "      <td>vanguardia.com.mx</td>\n",
              "      <td>vanguardia.com.mx</td>\n",
              "      <td>2024-12-07 00:24:45.099983+00:00</td>\n",
              "    </tr>\n",
              "    <tr>\n",
              "      <th>2</th>\n",
              "      <td>884774ededef848f2074c7852e5198a63a5636766d72dc...</td>\n",
              "      <td>2024-12-05</td>\n",
              "      <td>Niega cambio en estrategia de seguridad, es aj...</td>\n",
              "      <td>https://elheraldodesaltillo.mx/2024/12/05/nieg...</td>\n",
              "      <td>es</td>\n",
              "      <td>elheraldodesaltillo.mx</td>\n",
              "      <td>elheraldodesaltillo.mx</td>\n",
              "      <td>2024-12-06 18:24:23.117860+00:00</td>\n",
              "    </tr>\n",
              "    <tr>\n",
              "      <th>3</th>\n",
              "      <td>80f380f4866f176a6e16cffaa8910e73835ff4c47677ef...</td>\n",
              "      <td>2024-12-05</td>\n",
              "      <td>Rechaza Corte resolver si libros de texto 4T s...</td>\n",
              "      <td>https://elheraldodesaltillo.mx/2024/12/05/rech...</td>\n",
              "      <td>es</td>\n",
              "      <td>elheraldodesaltillo.mx</td>\n",
              "      <td>elheraldodesaltillo.mx</td>\n",
              "      <td>2024-12-06 18:24:18.432627+00:00</td>\n",
              "    </tr>\n",
              "    <tr>\n",
              "      <th>4</th>\n",
              "      <td>95ffa181f0faef5a37efb91f7d2944e247fcc759386548...</td>\n",
              "      <td>2024-12-05</td>\n",
              "      <td>Detienen a 'El Gallero', ligado a decomiso de ...</td>\n",
              "      <td>https://elheraldodesaltillo.mx/2024/12/05/deti...</td>\n",
              "      <td>es</td>\n",
              "      <td>elheraldodesaltillo.mx</td>\n",
              "      <td>elheraldodesaltillo.mx</td>\n",
              "      <td>2024-12-06 18:22:51.183113+00:00</td>\n",
              "    </tr>\n",
              "  </tbody>\n",
              "</table>\n",
              "</div>\n",
              "    <div class=\"colab-df-buttons\">\n",
              "\n",
              "  <div class=\"colab-df-container\">\n",
              "    <button class=\"colab-df-convert\" onclick=\"convertToInteractive('df-b47f5475-3527-4662-91c4-c33aef56281d')\"\n",
              "            title=\"Convert this dataframe to an interactive table.\"\n",
              "            style=\"display:none;\">\n",
              "\n",
              "  <svg xmlns=\"http://www.w3.org/2000/svg\" height=\"24px\" viewBox=\"0 -960 960 960\">\n",
              "    <path d=\"M120-120v-720h720v720H120Zm60-500h600v-160H180v160Zm220 220h160v-160H400v160Zm0 220h160v-160H400v160ZM180-400h160v-160H180v160Zm440 0h160v-160H620v160ZM180-180h160v-160H180v160Zm440 0h160v-160H620v160Z\"/>\n",
              "  </svg>\n",
              "    </button>\n",
              "\n",
              "  <style>\n",
              "    .colab-df-container {\n",
              "      display:flex;\n",
              "      gap: 12px;\n",
              "    }\n",
              "\n",
              "    .colab-df-convert {\n",
              "      background-color: #E8F0FE;\n",
              "      border: none;\n",
              "      border-radius: 50%;\n",
              "      cursor: pointer;\n",
              "      display: none;\n",
              "      fill: #1967D2;\n",
              "      height: 32px;\n",
              "      padding: 0 0 0 0;\n",
              "      width: 32px;\n",
              "    }\n",
              "\n",
              "    .colab-df-convert:hover {\n",
              "      background-color: #E2EBFA;\n",
              "      box-shadow: 0px 1px 2px rgba(60, 64, 67, 0.3), 0px 1px 3px 1px rgba(60, 64, 67, 0.15);\n",
              "      fill: #174EA6;\n",
              "    }\n",
              "\n",
              "    .colab-df-buttons div {\n",
              "      margin-bottom: 4px;\n",
              "    }\n",
              "\n",
              "    [theme=dark] .colab-df-convert {\n",
              "      background-color: #3B4455;\n",
              "      fill: #D2E3FC;\n",
              "    }\n",
              "\n",
              "    [theme=dark] .colab-df-convert:hover {\n",
              "      background-color: #434B5C;\n",
              "      box-shadow: 0px 1px 3px 1px rgba(0, 0, 0, 0.15);\n",
              "      filter: drop-shadow(0px 1px 2px rgba(0, 0, 0, 0.3));\n",
              "      fill: #FFFFFF;\n",
              "    }\n",
              "  </style>\n",
              "\n",
              "    <script>\n",
              "      const buttonEl =\n",
              "        document.querySelector('#df-b47f5475-3527-4662-91c4-c33aef56281d button.colab-df-convert');\n",
              "      buttonEl.style.display =\n",
              "        google.colab.kernel.accessAllowed ? 'block' : 'none';\n",
              "\n",
              "      async function convertToInteractive(key) {\n",
              "        const element = document.querySelector('#df-b47f5475-3527-4662-91c4-c33aef56281d');\n",
              "        const dataTable =\n",
              "          await google.colab.kernel.invokeFunction('convertToInteractive',\n",
              "                                                    [key], {});\n",
              "        if (!dataTable) return;\n",
              "\n",
              "        const docLinkHtml = 'Like what you see? Visit the ' +\n",
              "          '<a target=\"_blank\" href=https://colab.research.google.com/notebooks/data_table.ipynb>data table notebook</a>'\n",
              "          + ' to learn more about interactive tables.';\n",
              "        element.innerHTML = '';\n",
              "        dataTable['output_type'] = 'display_data';\n",
              "        await google.colab.output.renderOutput(dataTable, element);\n",
              "        const docLink = document.createElement('div');\n",
              "        docLink.innerHTML = docLinkHtml;\n",
              "        element.appendChild(docLink);\n",
              "      }\n",
              "    </script>\n",
              "  </div>\n",
              "\n",
              "\n",
              "<div id=\"df-88577930-f8c9-45a3-a1cc-e59e849a06ab\">\n",
              "  <button class=\"colab-df-quickchart\" onclick=\"quickchart('df-88577930-f8c9-45a3-a1cc-e59e849a06ab')\"\n",
              "            title=\"Suggest charts\"\n",
              "            style=\"display:none;\">\n",
              "\n",
              "<svg xmlns=\"http://www.w3.org/2000/svg\" height=\"24px\"viewBox=\"0 0 24 24\"\n",
              "     width=\"24px\">\n",
              "    <g>\n",
              "        <path d=\"M19 3H5c-1.1 0-2 .9-2 2v14c0 1.1.9 2 2 2h14c1.1 0 2-.9 2-2V5c0-1.1-.9-2-2-2zM9 17H7v-7h2v7zm4 0h-2V7h2v10zm4 0h-2v-4h2v4z\"/>\n",
              "    </g>\n",
              "</svg>\n",
              "  </button>\n",
              "\n",
              "<style>\n",
              "  .colab-df-quickchart {\n",
              "      --bg-color: #E8F0FE;\n",
              "      --fill-color: #1967D2;\n",
              "      --hover-bg-color: #E2EBFA;\n",
              "      --hover-fill-color: #174EA6;\n",
              "      --disabled-fill-color: #AAA;\n",
              "      --disabled-bg-color: #DDD;\n",
              "  }\n",
              "\n",
              "  [theme=dark] .colab-df-quickchart {\n",
              "      --bg-color: #3B4455;\n",
              "      --fill-color: #D2E3FC;\n",
              "      --hover-bg-color: #434B5C;\n",
              "      --hover-fill-color: #FFFFFF;\n",
              "      --disabled-bg-color: #3B4455;\n",
              "      --disabled-fill-color: #666;\n",
              "  }\n",
              "\n",
              "  .colab-df-quickchart {\n",
              "    background-color: var(--bg-color);\n",
              "    border: none;\n",
              "    border-radius: 50%;\n",
              "    cursor: pointer;\n",
              "    display: none;\n",
              "    fill: var(--fill-color);\n",
              "    height: 32px;\n",
              "    padding: 0;\n",
              "    width: 32px;\n",
              "  }\n",
              "\n",
              "  .colab-df-quickchart:hover {\n",
              "    background-color: var(--hover-bg-color);\n",
              "    box-shadow: 0 1px 2px rgba(60, 64, 67, 0.3), 0 1px 3px 1px rgba(60, 64, 67, 0.15);\n",
              "    fill: var(--button-hover-fill-color);\n",
              "  }\n",
              "\n",
              "  .colab-df-quickchart-complete:disabled,\n",
              "  .colab-df-quickchart-complete:disabled:hover {\n",
              "    background-color: var(--disabled-bg-color);\n",
              "    fill: var(--disabled-fill-color);\n",
              "    box-shadow: none;\n",
              "  }\n",
              "\n",
              "  .colab-df-spinner {\n",
              "    border: 2px solid var(--fill-color);\n",
              "    border-color: transparent;\n",
              "    border-bottom-color: var(--fill-color);\n",
              "    animation:\n",
              "      spin 1s steps(1) infinite;\n",
              "  }\n",
              "\n",
              "  @keyframes spin {\n",
              "    0% {\n",
              "      border-color: transparent;\n",
              "      border-bottom-color: var(--fill-color);\n",
              "      border-left-color: var(--fill-color);\n",
              "    }\n",
              "    20% {\n",
              "      border-color: transparent;\n",
              "      border-left-color: var(--fill-color);\n",
              "      border-top-color: var(--fill-color);\n",
              "    }\n",
              "    30% {\n",
              "      border-color: transparent;\n",
              "      border-left-color: var(--fill-color);\n",
              "      border-top-color: var(--fill-color);\n",
              "      border-right-color: var(--fill-color);\n",
              "    }\n",
              "    40% {\n",
              "      border-color: transparent;\n",
              "      border-right-color: var(--fill-color);\n",
              "      border-top-color: var(--fill-color);\n",
              "    }\n",
              "    60% {\n",
              "      border-color: transparent;\n",
              "      border-right-color: var(--fill-color);\n",
              "    }\n",
              "    80% {\n",
              "      border-color: transparent;\n",
              "      border-right-color: var(--fill-color);\n",
              "      border-bottom-color: var(--fill-color);\n",
              "    }\n",
              "    90% {\n",
              "      border-color: transparent;\n",
              "      border-bottom-color: var(--fill-color);\n",
              "    }\n",
              "  }\n",
              "</style>\n",
              "\n",
              "  <script>\n",
              "    async function quickchart(key) {\n",
              "      const quickchartButtonEl =\n",
              "        document.querySelector('#' + key + ' button');\n",
              "      quickchartButtonEl.disabled = true;  // To prevent multiple clicks.\n",
              "      quickchartButtonEl.classList.add('colab-df-spinner');\n",
              "      try {\n",
              "        const charts = await google.colab.kernel.invokeFunction(\n",
              "            'suggestCharts', [key], {});\n",
              "      } catch (error) {\n",
              "        console.error('Error during call to suggestCharts:', error);\n",
              "      }\n",
              "      quickchartButtonEl.classList.remove('colab-df-spinner');\n",
              "      quickchartButtonEl.classList.add('colab-df-quickchart-complete');\n",
              "    }\n",
              "    (() => {\n",
              "      let quickchartButtonEl =\n",
              "        document.querySelector('#df-88577930-f8c9-45a3-a1cc-e59e849a06ab button');\n",
              "      quickchartButtonEl.style.display =\n",
              "        google.colab.kernel.accessAllowed ? 'block' : 'none';\n",
              "    })();\n",
              "  </script>\n",
              "</div>\n",
              "\n",
              "    </div>\n",
              "  </div>\n"
            ],
            "application/vnd.google.colaboratory.intrinsic+json": {
              "type": "dataframe",
              "variable_name": "df",
              "summary": "{\n  \"name\": \"df\",\n  \"rows\": 1576,\n  \"fields\": [\n    {\n      \"column\": \"id\",\n      \"properties\": {\n        \"dtype\": \"string\",\n        \"num_unique_values\": 1576,\n        \"samples\": [\n          \"c68de7c3f5110db8419a715c30486853fc7334169cf3fcb1efaadd6b1bc0c90b\",\n          \"72971d5cc7037e90f2860c9218b9f2b48a09cd4933a9dcb42f2fc8427c19d5aa\",\n          \"5462d7fc8c89f413d7736e6b72deaeccd7a3f16914b0a6b5702b70301e266368\"\n        ],\n        \"semantic_type\": \"\",\n        \"description\": \"\"\n      }\n    },\n    {\n      \"column\": \"publish_date\",\n      \"properties\": {\n        \"dtype\": \"object\",\n        \"num_unique_values\": 4,\n        \"samples\": [\n          \"2024-12-04\",\n          \"2024-12-02\",\n          \"2024-12-05\"\n        ],\n        \"semantic_type\": \"\",\n        \"description\": \"\"\n      }\n    },\n    {\n      \"column\": \"title\",\n      \"properties\": {\n        \"dtype\": \"string\",\n        \"num_unique_values\": 1181,\n        \"samples\": [\n          \"Juez dio libertad condicional indebida a \\\"El Contador\\\": FGR\",\n          \"Presidenta mexicana pide respeto a sus socios norteamericanos. Prev\\u00e9 reunirse con Trump \\u201cpronto\\u201d\",\n          \"Descarta Monreal que crimen reclute estudiantes de qu\\u00edmica\"\n        ],\n        \"semantic_type\": \"\",\n        \"description\": \"\"\n      }\n    },\n    {\n      \"column\": \"url\",\n      \"properties\": {\n        \"dtype\": \"string\",\n        \"num_unique_values\": 1576,\n        \"samples\": [\n          \"https://lavozhispanact.com/presidenta-mexicana-pide-respeto-a-sus-socios-norteamericanos-preve-reunirse-con-trump-pronto/\",\n          \"https://noticiasya.com/reno/2024/12/03/claudia-sheinbaum-descarta-donald-trump-vaya-a-invadir-mexico-orix/\",\n          \"https://laopcion.com.mx/nacional/video-provoca-penal-muerte-de-56-personas-en-estadio-de-futbol-20241202-479076.html\"\n        ],\n        \"semantic_type\": \"\",\n        \"description\": \"\"\n      }\n    },\n    {\n      \"column\": \"language\",\n      \"properties\": {\n        \"dtype\": \"category\",\n        \"num_unique_values\": 2,\n        \"samples\": [\n          \"en\",\n          \"es\"\n        ],\n        \"semantic_type\": \"\",\n        \"description\": \"\"\n      }\n    },\n    {\n      \"column\": \"media_name\",\n      \"properties\": {\n        \"dtype\": \"category\",\n        \"num_unique_values\": 212,\n        \"samples\": [\n          \"elsoldehidalgo.com.mx\",\n          \"telemundodenver.com\"\n        ],\n        \"semantic_type\": \"\",\n        \"description\": \"\"\n      }\n    },\n    {\n      \"column\": \"media_url\",\n      \"properties\": {\n        \"dtype\": \"category\",\n        \"num_unique_values\": 212,\n        \"samples\": [\n          \"elsoldehidalgo.com.mx\",\n          \"telemundodenver.com\"\n        ],\n        \"semantic_type\": \"\",\n        \"description\": \"\"\n      }\n    },\n    {\n      \"column\": \"indexed_date\",\n      \"properties\": {\n        \"dtype\": \"object\",\n        \"num_unique_values\": 1576,\n        \"samples\": [\n          \"2024-12-03 06:23:14.822856+00:00\",\n          \"2024-12-04 11:30:23.159568+00:00\"\n        ],\n        \"semantic_type\": \"\",\n        \"description\": \"\"\n      }\n    }\n  ]\n}"
            }
          },
          "metadata": {},
          "execution_count": 61
        }
      ]
    },
    {
      "cell_type": "markdown",
      "source": [
        "**Los siguientes bloques cumplen con una función de limpieza pensando en un análisis mayor a futuro.**\n",
        "\n",
        "* Las funciones cumplen con el objetivo de descartar aquellas urls que no den respuestas a las solicitudes o den algún error. Con esto se asegura de que más adelante, si se quiere obtener por ejemplo una captura de pantalla o información aparte de las columnas que están en el csv creado con los resultados, se podrá acceder a cualquier enlace porque todos deberían estar funcionando.\n",
        "\n",
        "* La segunda función buscó que esta depuración de urls fuera más estable ya que la primera podía tardar más de 10 min ejecutando aún cuando se usaron archivos de prueba con solo 10 registros. De igual manera podía pasar que archivos con 200 registros fueran ejecutados en menos de 1 min."
      ],
      "metadata": {
        "id": "x-pr7Jgevwh8"
      }
    },
    {
      "cell_type": "code",
      "execution_count": null,
      "metadata": {
        "id": "_k7iAZfS6ZOj",
        "colab": {
          "base_uri": "https://localhost:8080/"
        },
        "outputId": "783f688b-2b05-4a84-bf38-7dbcadd17cf6"
      },
      "outputs": [
        {
          "output_type": "stream",
          "name": "stdout",
          "text": [
            "Dominios de URLs no válidas:\n"
          ]
        }
      ],
      "source": [
        "def eliminar_urls_no_validas(csv_file):\n",
        "    # Cargar el csv en un DataFrame\n",
        "    df = pd.read_csv('/content/Validacion.csv')\n",
        "    urls_no_validas = []\n",
        "\n",
        "    # Iterar sobre las URLs en la columna 'url'\n",
        "    for index, row in df.iterrows():\n",
        "        url = row['url']\n",
        "        try:\n",
        "            # Hacer una solicitud GET a la URL\n",
        "            response = requests.get(url)\n",
        "            # Si la respuesta es 404, agregar la URL a la lista de URLs no válidas\n",
        "            if response.status_code == 404:\n",
        "                urls_no_validas.append(url)\n",
        "        except requests.exceptions.RequestException as e:\n",
        "            # Si hay un error en la solicitud, agregar la URL a la lista de URLs no válidas\n",
        "            urls_no_validas.append(url)\n",
        "\n",
        "# Imprimir los dominios de las URLs no válidas\n",
        "    dominios_no_validos = [urlparse(url).netloc for url in urls_no_validas]\n",
        "    print(\"Dominios de URLs no válidas:\")\n",
        "    for dominio in dominios_no_validos:\n",
        "        print(dominio)\n",
        "\n",
        "    # Eliminar las filas con URLs no válidas del DataFrame\n",
        "    df = df[~df['url'].isin(urls_no_validas)]\n",
        "\n",
        "    # Guardar el DataFrame modificado en un nuevo csv\n",
        "    df.to_csv('urls_validas.csv', index=False)\n",
        "\n",
        "# Llamar a la función con el nombre del csv\n",
        "eliminar_urls_no_validas('/content/Validacion.csv')"
      ]
    },
    {
      "cell_type": "markdown",
      "source": [
        "* En esta función se agrega un timeout por alguna solicitud tarda demasiado en responder, se cancela y se considerará como una URL no válida.\n",
        "También se utiliza un pool de conexiones para hacer varias solicitudes al mismo tiempo y se utiliza una biblioteca de concurrencia para mejorar el rendimiento y reducir el tiempo de ejecución."
      ],
      "metadata": {
        "id": "8miy220QyEn_"
      }
    },
    {
      "cell_type": "code",
      "source": [
        "def eliminar_urls_no_validas(csv_file):\n",
        "    # Cargar el csv en un DataFrame\n",
        "    df = pd.read_csv('/content/story-list.csv')\n",
        "    urls_no_validas = []\n",
        "\n",
        "    # Función para verificar una URL\n",
        "    def verificar_url(url):\n",
        "        try:\n",
        "            # Hacer una solicitud GET a la URL con un timeout de 5 segundos\n",
        "            response = requests.get(url, timeout=5)\n",
        "            # Si la respuesta es 404, agregar la URL a la lista de URLs no válidas\n",
        "            if response.status_code == 404:\n",
        "                return url\n",
        "        except requests.exceptions.RequestException:\n",
        "            # Si hay un error en la solicitud, agregar la URL a la lista de URLs no válidas\n",
        "            return url\n",
        "        return None\n",
        "\n",
        "    # Utilizar un pool de conexiones para verificar las URLs\n",
        "    with ThreadPoolExecutor(max_workers=10) as executor:\n",
        "        resultados = list(executor.map(verificar_url, df['url']))\n",
        "\n",
        "    # Agregar las URLs no válidas a la lista\n",
        "    urls_no_validas = [url for url in resultados if url is not None]\n",
        "\n",
        "    # Imprimir los dominios de las URLs no válidas\n",
        "    dominios_no_validos = [urlparse(url).netloc for url in urls_no_validas]\n",
        "    print(\"Dominios de URLs no válidas:\")\n",
        "    for dominio in dominios_no_validos:\n",
        "        print(dominio)\n",
        "\n",
        "    # Eliminar las filas con URLs no válidas del DataFrame\n",
        "    df = df[~df['url'].isin(urls_no_validas)]\n",
        "\n",
        "    # Guardar el DataFrame modificado en un nuevo csv\n",
        "    df.to_csv('urls_validas.csv', index=False)\n",
        "\n",
        "# Llamar a la función con el nombre del csv\n",
        "eliminar_urls_no_validas('/content/story-list.csv')"
      ],
      "metadata": {
        "colab": {
          "base_uri": "https://localhost:8080/"
        },
        "id": "hqT52IiLtWMI",
        "outputId": "4b08fc2e-9f79-49f0-93c0-1f585fd98657"
      },
      "execution_count": null,
      "outputs": [
        {
          "output_type": "stream",
          "name": "stdout",
          "text": [
            "Dominios de URLs no válidas:\n",
            "www.elsoldecordoba.com.mx\n",
            "www.elsoldecordoba.com.mx\n",
            "www.diariodelsur.com.mx\n",
            "www.diariodelsur.com.mx\n",
            "www.elsoldehidalgo.com.mx\n",
            "www.elsoldehidalgo.com.mx\n",
            "www.24-horas.mx\n",
            "www.elheraldodechiapas.com.mx\n",
            "www.elsoldeirapuato.com.mx\n",
            "www.elsoldeirapuato.com.mx\n",
            "www.diariodequeretaro.com.mx\n",
            "www.diariodequeretaro.com.mx\n",
            "www.elsoldecuernavaca.com.mx\n",
            "www.elsoldecuernavaca.com.mx\n",
            "www.elsoldesalamanca.com.mx\n",
            "www.elsoldesalamanca.com.mx\n",
            "www.elsoldehermosillo.com.mx\n",
            "www.elsoldehermosillo.com.mx\n",
            "www.elsoldezamora.com.mx\n",
            "www.elsoldezamora.com.mx\n",
            "www.elsoldeleon.com.mx\n",
            "www.elsoldezamora.com.mx\n",
            "www.elsoldeleon.com.mx\n",
            "www.elsoldeparral.com.mx\n",
            "www.elsoldeparral.com.mx\n",
            "www.la-prensa.com.mx\n",
            "www.elsoldeparral.com.mx\n",
            "www.la-prensa.com.mx\n",
            "www.elsoldelbajio.com.mx\n",
            "www.elsoldelbajio.com.mx\n",
            "www.elsoldecuautla.com.mx\n",
            "www.elsoldecuautla.com.mx\n",
            "www.elsoldecuautla.com.mx\n",
            "www.elsoldesanjuandelrio.com.mx\n",
            "www.elsoldesanjuandelrio.com.mx\n",
            "www.elsoldecuautla.com.mx\n",
            "www.elsoldedurango.com.mx\n",
            "www.elsoldedurango.com.mx\n",
            "www.eloccidental.com.mx\n",
            "www.eloccidental.com.mx\n",
            "www.elheraldodetabasco.com.mx\n",
            "www.elheraldodetabasco.com.mx\n",
            "www.elheraldodetabasco.com.mx\n",
            "www.elsoldezacatecas.com.mx\n",
            "www.elsoldezacatecas.com.mx\n",
            "www.elsoldezacatecas.com.mx\n",
            "www.elsoldemorelia.com.mx\n",
            "www.elsoldemorelia.com.mx\n",
            "www.elsoldemorelia.com.mx\n",
            "www.elsoldeacapulco.com.mx\n",
            "www.elsoldeorizaba.com.mx\n",
            "www.elsoldeacapulco.com.mx\n",
            "www.elsoldeacapulco.com.mx\n",
            "www.elsoldeorizaba.com.mx\n",
            "www.elsoldeorizaba.com.mx\n",
            "www.elsoldeorizaba.com.mx\n",
            "www.elsoldetulancingo.com.mx\n",
            "www.elsoldetulancingo.com.mx\n",
            "www.elsoldemazatlan.com.mx\n",
            "www.elsoldemazatlan.com.mx\n",
            "www.elsoldemazatlan.com.mx\n",
            "www.elsoldemazatlan.com.mx\n",
            "www.elsoldetampico.com.mx\n",
            "www.elsoldetampico.com.mx\n",
            "www.elsoldetampico.com.mx\n",
            "www.tribunadesanluis.com.mx\n",
            "unomasuno.com.mx\n",
            "unomasuno.com.mx\n",
            "www.tribunadesanluis.com.mx\n",
            "www.tribunadesanluis.com.mx\n",
            "www.tribunadesanluis.com.mx\n",
            "www.elheraldodechihuahua.com.mx\n",
            "www.elheraldodechihuahua.com.mx\n",
            "www.elsoldetlaxcala.com.mx\n",
            "www.elsoldetlaxcala.com.mx\n",
            "www.elsoldetlaxcala.com.mx\n",
            "www.elsoldepuebla.com.mx\n",
            "www.elsoldepuebla.com.mx\n",
            "www.diariodexalapa.com.mx\n",
            "www.diariodexalapa.com.mx\n",
            "www.elsoldesanluis.com.mx\n",
            "www.diariodexalapa.com.mx\n",
            "www.elsoldesanluis.com.mx\n",
            "www.elsoldesinaloa.com.mx\n",
            "www.elsoldelcentro.com.mx\n",
            "www.elsoldelcentro.com.mx\n",
            "www.elsoldelcentro.com.mx\n",
            "www.elsoldelcentro.com.mx\n",
            "www.elsoldetoluca.com.mx\n",
            "www.elsoldetoluca.com.mx\n",
            "www.elheraldodechiapas.com.mx\n",
            "www.elheraldodechiapas.com.mx\n",
            "www.elheraldodechiapas.com.mx\n",
            "www.diariodelsur.com.mx\n",
            "www.diariodelsur.com.mx\n",
            "www.elsoldeirapuato.com.mx\n",
            "www.elsoldeirapuato.com.mx\n",
            "www.elsoldehidalgo.com.mx\n",
            "www.elsoldecuernavaca.com.mx\n",
            "www.elsoldeparral.com.mx\n",
            "www.la-prensa.com.mx\n",
            "www.diariodequeretaro.com.mx\n",
            "www.elsoldehermosillo.com.mx\n",
            "www.elsoldehermosillo.com.mx\n",
            "www.elsoldesalamanca.com.mx\n",
            "www.elsoldesalamanca.com.mx\n",
            "www.elsoldepuebla.com.mx\n",
            "www.elsoldecordoba.com.mx\n",
            "www.elsoldecordoba.com.mx\n",
            "www.elsoldecordoba.com.mx\n",
            "www.elheraldodechihuahua.com.mx\n",
            "www.elsoldedurango.com.mx\n",
            "www.elsoldesanjuandelrio.com.mx\n",
            "www.elsoldesanjuandelrio.com.mx\n",
            "laprensa.mx\n",
            "www.eloccidental.com.mx\n",
            "www.eloccidental.com.mx\n",
            "www.elsoldezamora.com.mx\n",
            "www.elsoldezamora.com.mx\n",
            "www.elsoldezamora.com.mx\n",
            "www.elsoldetulancingo.com.mx\n",
            "www.elsoldeacapulco.com.mx\n",
            "www.elsoldeleon.com.mx\n",
            "www.elsoldeleon.com.mx\n",
            "www.elsoldelbajio.com.mx\n",
            "www.elsoldelbajio.com.mx\n",
            "www.elsoldesinaloa.com.mx\n",
            "www.elsoldesanluis.com.mx\n",
            "www.24-horas.mx\n",
            "www.elsoldetoluca.com.mx\n",
            "www.diariodexalapa.com.mx\n",
            "www.elheraldodetabasco.com.mx\n",
            "www.elsoldecuautla.com.mx\n",
            "www.elsoldemorelia.com.mx\n",
            "www.elsoldezacatecas.com.mx\n",
            "www.elsoldemazatlan.com.mx\n",
            "www.elsoldetlaxcala.com.mx\n",
            "www.elsoldelcentro.com.mx\n",
            "www.elheraldodechiapas.com.mx\n",
            "www.elsoldetampico.com.mx\n",
            "www.elsoldeirapuato.com.mx\n",
            "www.tribunadesanluis.com.mx\n",
            "www.elsoldeparral.com.mx\n",
            "www.elsoldecuernavaca.com.mx\n",
            "www.la-prensa.com.mx\n",
            "www.elsoldehermosillo.com.mx\n",
            "www.excelsior.com.mx\n",
            "www.24-horas.mx\n",
            "www.elsoldeorizaba.com.mx\n",
            "www.elsoldehidalgo.com.mx\n",
            "www.diariodelsur.com.mx\n",
            "www.elsoldesalamanca.com.mx\n",
            "www.elsoldepuebla.com.mx\n",
            "www.elsoldedurango.com.mx\n",
            "www.diariodequeretaro.com.mx\n",
            "www.eloccidental.com.mx\n",
            "www.elsoldesanjuandelrio.com.mx\n",
            "www.elheraldodechihuahua.com.mx\n",
            "www.elsoldetulancingo.com.mx\n",
            "www.elsoldesanluis.com.mx\n",
            "www.elsoldetoluca.com.mx\n",
            "www.elsoldeacapulco.com.mx\n",
            "verticediario.com\n",
            "www.elsoldemazatlan.com.mx\n",
            "impacto.mx\n",
            "verticediario.com\n",
            "imparcialoaxaca.mx\n",
            "www.elsoldemexico.com.mx\n",
            "www.elsoldeparral.com.mx\n",
            "imparcialoaxaca.mx\n",
            "unomasuno.com.mx\n",
            "unomasuno.com.mx\n",
            "www.elsoldemazatlan.com.mx\n",
            "www.elsoldemazatlan.com.mx\n",
            "www.elbuentono.com.mx\n",
            "www.elbuentono.com.mx\n",
            "unomasuno.com.mx\n",
            "unomasuno.com.mx\n",
            "unomasuno.com.mx\n",
            "www.elsoldecuautla.com.mx\n",
            "www.24-horas.mx\n",
            "elinformante.mx\n",
            "www.elpuntocritico.com\n",
            "www.excelsior.com.mx\n",
            "www.elsoldeleon.com.mx\n",
            "www.tribunadesanluis.com.mx\n",
            "www.elsoldecordoba.com.mx\n",
            "www.elsoldesinaloa.com.mx\n",
            "www.elsoldecuautla.com.mx\n",
            "www.elsoldetampico.com.mx\n",
            "www.elsoldesanluis.com.mx\n",
            "www.elsoldelcentro.com.mx\n",
            "www.elsoldetulancingo.com.mx\n",
            "www.elsoldetulancingo.com.mx\n",
            "www.elsoldetoluca.com.mx\n",
            "www.elbuentono.com.mx\n",
            "www.la-prensa.com.mx\n",
            "www.elsoldesanjuandelrio.com.mx\n",
            "www.elsoldetlaxcala.com.mx\n",
            "www.elsoldeparral.com.mx\n",
            "www.elsoldemazatlan.com.mx\n",
            "www.diariodexalapa.com.mx\n",
            "www.elheraldodetabasco.com.mx\n",
            "www.diariodequeretaro.com.mx\n",
            "www.elsoldezamora.com.mx\n",
            "www.elsoldeacapulco.com.mx\n",
            "imparcialoaxaca.mx\n",
            "www.elsoldemorelia.com.mx\n",
            "www.elarsenal.net\n",
            "www.elarsenal.net\n",
            "www.elsoldedurango.com.mx\n",
            "www.elsoldehermosillo.com.mx\n",
            "www.elsoldeirapuato.com.mx\n",
            "www.elheraldodechihuahua.com.mx\n",
            "www.eloccidental.com.mx\n",
            "www.elsoldehidalgo.com.mx\n",
            "www.elsoldezacatecas.com.mx\n",
            "www.elsoldeorizaba.com.mx\n",
            "www.elsoldepuebla.com.mx\n",
            "www.elheraldodechiapas.com.mx\n",
            "www.elsoldecuernavaca.com.mx\n",
            "www.diariodelsur.com.mx\n",
            "verticediario.com\n",
            "verticediario.com\n",
            "www.elsoldelbajio.com.mx\n",
            "www.elsoldesalamanca.com.mx\n",
            "www.24-horas.mx\n",
            "www.diariodelsur.com.mx\n",
            "www.elsoldeparral.com.mx\n",
            "www.elsoldecuautla.com.mx\n",
            "www.telemundo33.com\n",
            "www.elpuntocritico.com\n",
            "www.elpuntocritico.com\n",
            "www.elsoldesalamanca.com.mx\n",
            "imparcialoaxaca.mx\n",
            "www.elsoldetampico.com.mx\n",
            "www.elsoldeorizaba.com.mx\n",
            "www.elsoldeorizaba.com.mx\n",
            "www.elsoldecuautla.com.mx\n",
            "www.elsoldeleon.com.mx\n",
            "www.elheraldodetabasco.com.mx\n",
            "www.elsoldemorelia.com.mx\n",
            "www.diariodexalapa.com.mx\n",
            "www.elsoldehidalgo.com.mx\n",
            "www.elsoldedurango.com.mx\n",
            "www.eloccidental.com.mx\n",
            "www.elsoldezamora.com.mx\n",
            "www.elsoldezamora.com.mx\n",
            "www.elsoldeacapulco.com.mx\n",
            "www.elsoldehermosillo.com.mx\n",
            "www.elsoldehermosillo.com.mx\n",
            "www.elsoldelcentro.com.mx\n",
            "www.diariodelsur.com.mx\n",
            "www.diariodelsur.com.mx\n",
            "www.elsoldesanluis.com.mx\n",
            "www.elsoldesanluis.com.mx\n",
            "www.elsoldezacatecas.com.mx\n",
            "www.elsoldecordoba.com.mx\n",
            "www.elsoldecordoba.com.mx\n",
            "www.elsoldezacatecas.com.mx\n",
            "www.elsoldeirapuato.com.mx\n",
            "www.elsoldeirapuato.com.mx\n",
            "www.elsoldepuebla.com.mx\n",
            "www.la-prensa.com.mx\n",
            "www.la-prensa.com.mx\n",
            "www.elheraldodechiapas.com.mx\n",
            "www.elheraldodechiapas.com.mx\n",
            "www.elsoldetulancingo.com.mx\n",
            "www.elsoldetulancingo.com.mx\n",
            "www.diariodequeretaro.com.mx\n",
            "www.diariodequeretaro.com.mx\n",
            "www.diariopuntual.com\n",
            "www.diariopuntual.com\n",
            "www.elsoldesinaloa.com.mx\n",
            "www.elsoldesinaloa.com.mx\n",
            "www.elsoldetoluca.com.mx\n",
            "www.elheraldodechihuahua.com.mx\n",
            "www.elsoldetoluca.com.mx\n",
            "www.elheraldodechihuahua.com.mx\n",
            "www.tribunadesanluis.com.mx\n",
            "www.tribunadesanluis.com.mx\n",
            "www.elsoldetlaxcala.com.mx\n",
            "www.elsoldecuernavaca.com.mx\n",
            "www.elsoldecuernavaca.com.mx\n",
            "www.elsoldetlaxcala.com.mx\n",
            "www.elsoldelbajio.com.mx\n",
            "www.elsoldelbajio.com.mx\n",
            "www.elsoldeparral.com.mx\n",
            "www.elsoldemazatlan.com.mx\n",
            "www.elsoldemazatlan.com.mx\n",
            "www.elsoldemazatlan.com.mx\n",
            "www.elsoldeparral.com.mx\n",
            "www.elsoldesanjuandelrio.com.mx\n",
            "www.elsoldesanjuandelrio.com.mx\n",
            "www.elheraldodetabasco.com.mx\n",
            "www.elsoldesalamanca.com.mx\n",
            "www.elsoldeacapulco.com.mx\n",
            "www.elsoldehidalgo.com.mx\n",
            "www.elsoldetampico.com.mx\n",
            "www.elsoldemorelia.com.mx\n",
            "www.diariodexalapa.com.mx\n",
            "www.elsoldepuebla.com.mx\n",
            "www.elsoldedurango.com.mx\n",
            "www.eloccidental.com.mx\n",
            "elinformante.mx\n",
            "www.elsoldeleon.com.mx\n",
            "www.elsoldelcentro.com.mx\n",
            "www.excelsior.com.mx\n"
          ]
        }
      ]
    }
  ],
  "metadata": {
    "colab": {
      "provenance": []
    },
    "kernelspec": {
      "display_name": "Python 3",
      "name": "python3"
    },
    "language_info": {
      "name": "python"
    }
  },
  "nbformat": 4,
  "nbformat_minor": 0
}